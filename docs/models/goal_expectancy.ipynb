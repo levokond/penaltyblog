{
 "cells": [
  {
   "cell_type": "markdown",
   "id": "81215b75-f5f8-4c17-9cd4-08b1b0ed4234",
   "metadata": {},
   "source": [
    "# Inferring Goal Expectancies from Bookmaker Odds\n",
    "\n",
    "`penaltyblog` also includes a utility that works in the **opposite** direction to the goals models: given **bookmaker 1X2 probabilities** (home/draw/away), it estimates the **implied goal expectancies** (μ_home, μ_away).\n",
    "\n",
    "## What it does\n",
    "\n",
    "- Finds μ_home and μ_away such that a Poisson (optionally Dixon–Coles-adjusted) model best matches the given 1X2 probabilities.\n",
    "- Uses numerical optimisation (scipy.optimize.minimize) with stable parameterisation (log μ bounded).\n",
    "- Supports:\n",
    "    - Time-decay adjustment for low-score events (Dixon–Coles).\n",
    "    - Flexible scoring rules: Brier/MSE or cross-entropy.\n",
    "    - Configurable grid size (max_goals) and normalisation after Dixon–Coles adjustment.\n",
    "\n",
    "# Parameters\n",
    "\n",
    "- **home, draw, away** - 1X2 probabilities (must be in [0,1]).\n",
    "- **dc_adj** - whether to apply Dixon–Coles adjustment.\n",
    "- **rho** - correlation parameter for Dixon–Coles.\n",
    "- **minimizer_options** - dict of options to pass to SciPy’s optimiser.\n",
    "- **max_goals** - maximum goals per team in the grid (default 15 ⇒ 0–15 inclusive).\n",
    "- **remove_overround** - if True, probabilities are renormalised to sum to 1 before fitting.\n",
    "- **method** - optimiser method (default \"L-BFGS-B\").\n",
    "- **bounds** - bounds on (log μ_home, log μ_away) for stability.\n",
    "- **x0** - optional starting guess for (log μ_home, log μ_away).\n",
    "- **renormalize_after_dc** - if True, re-normalises the probability grid after DC adjustments and clips small negatives.\n",
    "- **objective** - 'brier' for mean-squared error or 'cross_entropy' for KL-style loss.\n",
    "- **return_details** - if True, includes extra audit information in the result.\n",
    "\n",
    "## Returns\n",
    "\n",
    "A dict with:\n",
    "\n",
    "- `home_exp` - implied home goal expectancy (μ_home)\n",
    "- `away_exp` - implied away goal expectancy (μ_away)\n",
    "- `error` - final mean squared error between predicted and target 1X2\n",
    "- `success` - whether the optimiser reported success\n",
    "\n",
    "If `return_details=True`, also includes:\n",
    "\n",
    "- **predicted** - model’s predicted [P(home win), P(draw), P(away win)]\n",
    "- **mass** - total probability in the truncated grid (≤ 1.0 if max_goals small or normalize_after_dc=False)\n",
    "\n",
    "---\n"
   ]
  },
  {
   "cell_type": "markdown",
   "id": "cea7ef3f",
   "metadata": {},
   "source": [
    "## Quick Example"
   ]
  },
  {
   "cell_type": "code",
   "execution_count": 1,
   "id": "e5997054-9134-43e3-9d08-797c183fe642",
   "metadata": {},
   "outputs": [
    {
     "name": "stdout",
     "output_type": "stream",
     "text": [
      "{'away_exp': 1.018968393752446,\n",
      " 'error': 1.4642670964617868e-12,\n",
      " 'home_exp': 1.3415375327000219,\n",
      " 'mass': 0.9999999999999999,\n",
      " 'predicted': array([0.44117672, 0.27450821, 0.28431507]),\n",
      " 'success': True}\n"
     ]
    }
   ],
   "source": [
    "from penaltyblog.models import goal_expectancy\n",
    "from pprint import pprint\n",
    "\n",
    "# Suppose your market is:\n",
    "p_home, p_draw, p_away = 0.45, 0.28, 0.29\n",
    "\n",
    "est = goal_expectancy(\n",
    "    home=p_home,\n",
    "    draw=p_draw,\n",
    "    away=p_away,\n",
    "    dc_adj=True,              # use Dixon–Coles low-score correction\n",
    "    rho=0.001,                # typical small value\n",
    "    minimizer_options={\"maxiter\": 5000},\n",
    "    remove_overround=True\n",
    ")\n",
    "\n",
    "pprint(est)"
   ]
  },
  {
   "cell_type": "markdown",
   "id": "34b289e9",
   "metadata": {},
   "source": [
    "You can then use these expectancies directly in your own Poisson simulator or as a prior/anchor when comparing to model-based expectancies.\n",
    "\n",
    "## Notes & best practices\n",
    "\n",
    "- **Probabilities vs odds:** If you start from odds, convert to probabilities and (optionally) remove overround before passing to this function.\n",
    "- **Truncation:** Only scores up to `max_goals` are considered; very small tail mass may be lost if `normalize_after_dc=False`.\n",
    "- **DC adjustment:** Can help fit when draw prices are high; rho is typically small (0.001–0.01).\n",
    "- **Stability:** The optimiser works on bounded log-μ space, preventing non-physical negative goal expectancies.\n",
    "- **Diagnostics:** Use `return_details=True` to check mass and predicted 1X2 to understand residual errors.\n",
    "\n",
    "---"
   ]
  },
  {
   "cell_type": "markdown",
   "id": "acd4aa45",
   "metadata": {},
   "source": [
    "## Behind the Scenes: How the optimiser works\n",
    "\n",
    "This function reverse-engineers μ_home and μ_away via a small **non-linear optimisation** problem.\n",
    "\n",
    "1. **Parameterisation**  \n",
    "   - The optimiser works in **log μ** space (`log_mu_home`, `log_mu_away`), ensuring μ > 0 at all times.  \n",
    "   - Bounds on log μ (default `[-3, 3]`) correspond to μ ∈ [0.05, 20] — covering realistic football scoring ranges but preventing runaway values that could destabilise the fit.\n",
    "\n",
    "2. **Objective function**  \n",
    "   - Default: **Brier score** (mean squared error) between the model’s predicted 1X2 probabilities and the input values.  \n",
    "   - Alternative: **Cross-entropy** loss (KL divergence direction) if `objective='cross_entropy'`.\n",
    "\n",
    "3. **Probability grid**  \n",
    "   - A Poisson model generates a probability matrix over scores `(0..max_goals) × (0..max_goals)`.  \n",
    "   - The Dixon–Coles adjustment optionally tweaks four low-score cells to better match real-world correlation in low-scoring games.\n",
    "   - If `renormalize_after_dc=True`, the grid is re-scaled to sum exactly to 1.0 after the adjustment (and any small negatives are clipped).\n",
    "\n",
    "4. **From grid to 1X2**  \n",
    "   - `P(home win)` = sum of all cells below the main diagonal.  \n",
    "   - `P(draw)` = sum of diagonal cells.  \n",
    "   - `P(away win)` = sum of cells above the diagonal.\n",
    "\n",
    "5. **Optimisation**  \n",
    "   - The optimiser (`scipy.optimize.minimize`) searches log μ space to minimise the chosen loss.  \n",
    "   - By default, the **L-BFGS-B** method is used, as it handles bounds well and converges quickly for small parameter spaces.\n",
    "   - The starting guess defaults to a mild home advantage (`log(1.3)`, `log(1.1)`), but you can override with `x0`.\n",
    "\n",
    "6. **Diagnostics & tail mass**  \n",
    "   - The returned `mass` is the sum of all probabilities in the truncated grid.  \n",
    "     If `max_goals` is too low, `mass` < 1.0 means you’ve cut off a non-negligible tail - increasing `max_goals` will reduce this.  \n",
    "   - With `normalize_after_dc=False`, residuals may include both truncation error and DC-induced mass shifts.\n"
   ]
  }
 ],
 "metadata": {
  "kernelspec": {
   "display_name": "venv",
   "language": "python",
   "name": "python3"
  },
  "language_info": {
   "codemirror_mode": {
    "name": "ipython",
    "version": 3
   },
   "file_extension": ".py",
   "mimetype": "text/x-python",
   "name": "python",
   "nbconvert_exporter": "python",
   "pygments_lexer": "ipython3",
   "version": "3.13.5"
  }
 },
 "nbformat": 4,
 "nbformat_minor": 5
}

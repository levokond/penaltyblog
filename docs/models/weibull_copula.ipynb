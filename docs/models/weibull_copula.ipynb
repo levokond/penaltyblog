{
 "cells": [
  {
   "cell_type": "markdown",
   "id": "81215b75-f5f8-4c17-9cd4-08b1b0ed4234",
   "metadata": {},
   "source": [
    "# Bivariate Weibull Count Plus Copula Model\n",
    "\n",
    "The Bivariate Weibull Count Plus Copula Model is a sophisticated statistical framework designed for predicting football match outcomes by jointly modeling the number of goals scored by both teams. \n",
    "\n",
    "It extends traditional Poisson-based approaches by incorporating Weibull-distributed goal counts, which allow for greater flexibility in capturing goal-scoring patterns, particularly when goal distributions exhibit overdispersion. \n",
    "\n",
    "Additionally, the copula component explicitly models the dependence between home and away team goal counts, improving prediction accuracy for correct scores, match outcomes, and betting markets like total goals and Asian handicaps. \n",
    "\n",
    "This advanced model is particularly valuable for football analytics when capturing nuanced relationships between teams' performances is crucial for better forecasting."
   ]
  },
  {
   "cell_type": "code",
   "execution_count": 1,
   "id": "1f931497-c1f9-4cb4-969a-058676e42a24",
   "metadata": {
    "tags": []
   },
   "outputs": [],
   "source": [
    "import penaltyblog as pb"
   ]
  },
  {
   "cell_type": "markdown",
   "id": "4a1b5c76-8f47-4f59-8351-d5add2f69309",
   "metadata": {},
   "source": [
    "## Get data from football-data.co.uk"
   ]
  },
  {
   "cell_type": "code",
   "execution_count": 2,
   "id": "949b129d-e4e5-4975-8318-dd601d918e90",
   "metadata": {
    "tags": []
   },
   "outputs": [
    {
     "data": {
      "text/html": [
       "<div>\n",
       "<style scoped>\n",
       "    .dataframe tbody tr th:only-of-type {\n",
       "        vertical-align: middle;\n",
       "    }\n",
       "\n",
       "    .dataframe tbody tr th {\n",
       "        vertical-align: top;\n",
       "    }\n",
       "\n",
       "    .dataframe thead th {\n",
       "        text-align: right;\n",
       "    }\n",
       "</style>\n",
       "<table border=\"1\" class=\"dataframe\">\n",
       "  <thead>\n",
       "    <tr style=\"text-align: right;\">\n",
       "      <th></th>\n",
       "      <th>date</th>\n",
       "      <th>datetime</th>\n",
       "      <th>season</th>\n",
       "      <th>competition</th>\n",
       "      <th>div</th>\n",
       "      <th>time</th>\n",
       "      <th>team_home</th>\n",
       "      <th>team_away</th>\n",
       "      <th>fthg</th>\n",
       "      <th>ftag</th>\n",
       "      <th>...</th>\n",
       "      <th>b365_cahh</th>\n",
       "      <th>b365_caha</th>\n",
       "      <th>pcahh</th>\n",
       "      <th>pcaha</th>\n",
       "      <th>max_cahh</th>\n",
       "      <th>max_caha</th>\n",
       "      <th>avg_cahh</th>\n",
       "      <th>avg_caha</th>\n",
       "      <th>goals_home</th>\n",
       "      <th>goals_away</th>\n",
       "    </tr>\n",
       "    <tr>\n",
       "      <th>id</th>\n",
       "      <th></th>\n",
       "      <th></th>\n",
       "      <th></th>\n",
       "      <th></th>\n",
       "      <th></th>\n",
       "      <th></th>\n",
       "      <th></th>\n",
       "      <th></th>\n",
       "      <th></th>\n",
       "      <th></th>\n",
       "      <th></th>\n",
       "      <th></th>\n",
       "      <th></th>\n",
       "      <th></th>\n",
       "      <th></th>\n",
       "      <th></th>\n",
       "      <th></th>\n",
       "      <th></th>\n",
       "      <th></th>\n",
       "      <th></th>\n",
       "      <th></th>\n",
       "    </tr>\n",
       "  </thead>\n",
       "  <tbody>\n",
       "    <tr>\n",
       "      <th>1565308800---liverpool---norwich</th>\n",
       "      <td>2019-08-09</td>\n",
       "      <td>2019-08-09 20:00:00</td>\n",
       "      <td>2019-2020</td>\n",
       "      <td>ENG Premier League</td>\n",
       "      <td>E0</td>\n",
       "      <td>20:00</td>\n",
       "      <td>Liverpool</td>\n",
       "      <td>Norwich</td>\n",
       "      <td>4</td>\n",
       "      <td>1</td>\n",
       "      <td>...</td>\n",
       "      <td>1.91</td>\n",
       "      <td>1.99</td>\n",
       "      <td>1.94</td>\n",
       "      <td>1.98</td>\n",
       "      <td>1.99</td>\n",
       "      <td>2.07</td>\n",
       "      <td>1.90</td>\n",
       "      <td>1.99</td>\n",
       "      <td>4</td>\n",
       "      <td>1</td>\n",
       "    </tr>\n",
       "    <tr>\n",
       "      <th>1565395200---bournemouth---sheffield_united</th>\n",
       "      <td>2019-08-10</td>\n",
       "      <td>2019-08-10 15:00:00</td>\n",
       "      <td>2019-2020</td>\n",
       "      <td>ENG Premier League</td>\n",
       "      <td>E0</td>\n",
       "      <td>15:00</td>\n",
       "      <td>Bournemouth</td>\n",
       "      <td>Sheffield United</td>\n",
       "      <td>1</td>\n",
       "      <td>1</td>\n",
       "      <td>...</td>\n",
       "      <td>1.95</td>\n",
       "      <td>1.95</td>\n",
       "      <td>1.98</td>\n",
       "      <td>1.95</td>\n",
       "      <td>2.00</td>\n",
       "      <td>1.96</td>\n",
       "      <td>1.96</td>\n",
       "      <td>1.92</td>\n",
       "      <td>1</td>\n",
       "      <td>1</td>\n",
       "    </tr>\n",
       "    <tr>\n",
       "      <th>1565395200---burnley---southampton</th>\n",
       "      <td>2019-08-10</td>\n",
       "      <td>2019-08-10 15:00:00</td>\n",
       "      <td>2019-2020</td>\n",
       "      <td>ENG Premier League</td>\n",
       "      <td>E0</td>\n",
       "      <td>15:00</td>\n",
       "      <td>Burnley</td>\n",
       "      <td>Southampton</td>\n",
       "      <td>3</td>\n",
       "      <td>0</td>\n",
       "      <td>...</td>\n",
       "      <td>1.87</td>\n",
       "      <td>2.03</td>\n",
       "      <td>1.89</td>\n",
       "      <td>2.03</td>\n",
       "      <td>1.90</td>\n",
       "      <td>2.07</td>\n",
       "      <td>1.86</td>\n",
       "      <td>2.02</td>\n",
       "      <td>3</td>\n",
       "      <td>0</td>\n",
       "    </tr>\n",
       "    <tr>\n",
       "      <th>1565395200---crystal_palace---everton</th>\n",
       "      <td>2019-08-10</td>\n",
       "      <td>2019-08-10 15:00:00</td>\n",
       "      <td>2019-2020</td>\n",
       "      <td>ENG Premier League</td>\n",
       "      <td>E0</td>\n",
       "      <td>15:00</td>\n",
       "      <td>Crystal Palace</td>\n",
       "      <td>Everton</td>\n",
       "      <td>0</td>\n",
       "      <td>0</td>\n",
       "      <td>...</td>\n",
       "      <td>1.82</td>\n",
       "      <td>2.08</td>\n",
       "      <td>1.97</td>\n",
       "      <td>1.96</td>\n",
       "      <td>2.03</td>\n",
       "      <td>2.08</td>\n",
       "      <td>1.96</td>\n",
       "      <td>1.93</td>\n",
       "      <td>0</td>\n",
       "      <td>0</td>\n",
       "    </tr>\n",
       "    <tr>\n",
       "      <th>1565395200---tottenham---aston_villa</th>\n",
       "      <td>2019-08-10</td>\n",
       "      <td>2019-08-10 17:30:00</td>\n",
       "      <td>2019-2020</td>\n",
       "      <td>ENG Premier League</td>\n",
       "      <td>E0</td>\n",
       "      <td>17:30</td>\n",
       "      <td>Tottenham</td>\n",
       "      <td>Aston Villa</td>\n",
       "      <td>3</td>\n",
       "      <td>1</td>\n",
       "      <td>...</td>\n",
       "      <td>2.10</td>\n",
       "      <td>1.70</td>\n",
       "      <td>2.18</td>\n",
       "      <td>1.77</td>\n",
       "      <td>2.21</td>\n",
       "      <td>1.87</td>\n",
       "      <td>2.08</td>\n",
       "      <td>1.80</td>\n",
       "      <td>3</td>\n",
       "      <td>1</td>\n",
       "    </tr>\n",
       "  </tbody>\n",
       "</table>\n",
       "<p>5 rows × 111 columns</p>\n",
       "</div>"
      ],
      "text/plain": [
       "                                                  date            datetime  \\\n",
       "id                                                                           \n",
       "1565308800---liverpool---norwich            2019-08-09 2019-08-09 20:00:00   \n",
       "1565395200---bournemouth---sheffield_united 2019-08-10 2019-08-10 15:00:00   \n",
       "1565395200---burnley---southampton          2019-08-10 2019-08-10 15:00:00   \n",
       "1565395200---crystal_palace---everton       2019-08-10 2019-08-10 15:00:00   \n",
       "1565395200---tottenham---aston_villa        2019-08-10 2019-08-10 17:30:00   \n",
       "\n",
       "                                                season         competition  \\\n",
       "id                                                                           \n",
       "1565308800---liverpool---norwich             2019-2020  ENG Premier League   \n",
       "1565395200---bournemouth---sheffield_united  2019-2020  ENG Premier League   \n",
       "1565395200---burnley---southampton           2019-2020  ENG Premier League   \n",
       "1565395200---crystal_palace---everton        2019-2020  ENG Premier League   \n",
       "1565395200---tottenham---aston_villa         2019-2020  ENG Premier League   \n",
       "\n",
       "                                            div   time       team_home  \\\n",
       "id                                                                       \n",
       "1565308800---liverpool---norwich             E0  20:00       Liverpool   \n",
       "1565395200---bournemouth---sheffield_united  E0  15:00     Bournemouth   \n",
       "1565395200---burnley---southampton           E0  15:00         Burnley   \n",
       "1565395200---crystal_palace---everton        E0  15:00  Crystal Palace   \n",
       "1565395200---tottenham---aston_villa         E0  17:30       Tottenham   \n",
       "\n",
       "                                                    team_away  fthg  ftag  \\\n",
       "id                                                                          \n",
       "1565308800---liverpool---norwich                      Norwich     4     1   \n",
       "1565395200---bournemouth---sheffield_united  Sheffield United     1     1   \n",
       "1565395200---burnley---southampton                Southampton     3     0   \n",
       "1565395200---crystal_palace---everton                 Everton     0     0   \n",
       "1565395200---tottenham---aston_villa              Aston Villa     3     1   \n",
       "\n",
       "                                             ... b365_cahh  b365_caha  pcahh  \\\n",
       "id                                           ...                               \n",
       "1565308800---liverpool---norwich             ...      1.91       1.99   1.94   \n",
       "1565395200---bournemouth---sheffield_united  ...      1.95       1.95   1.98   \n",
       "1565395200---burnley---southampton           ...      1.87       2.03   1.89   \n",
       "1565395200---crystal_palace---everton        ...      1.82       2.08   1.97   \n",
       "1565395200---tottenham---aston_villa         ...      2.10       1.70   2.18   \n",
       "\n",
       "                                            pcaha max_cahh  max_caha  \\\n",
       "id                                                                     \n",
       "1565308800---liverpool---norwich             1.98     1.99      2.07   \n",
       "1565395200---bournemouth---sheffield_united  1.95     2.00      1.96   \n",
       "1565395200---burnley---southampton           2.03     1.90      2.07   \n",
       "1565395200---crystal_palace---everton        1.96     2.03      2.08   \n",
       "1565395200---tottenham---aston_villa         1.77     2.21      1.87   \n",
       "\n",
       "                                             avg_cahh  avg_caha  goals_home  \\\n",
       "id                                                                            \n",
       "1565308800---liverpool---norwich                 1.90      1.99           4   \n",
       "1565395200---bournemouth---sheffield_united      1.96      1.92           1   \n",
       "1565395200---burnley---southampton               1.86      2.02           3   \n",
       "1565395200---crystal_palace---everton            1.96      1.93           0   \n",
       "1565395200---tottenham---aston_villa             2.08      1.80           3   \n",
       "\n",
       "                                             goals_away  \n",
       "id                                                       \n",
       "1565308800---liverpool---norwich                      1  \n",
       "1565395200---bournemouth---sheffield_united           1  \n",
       "1565395200---burnley---southampton                    0  \n",
       "1565395200---crystal_palace---everton                 0  \n",
       "1565395200---tottenham---aston_villa                  1  \n",
       "\n",
       "[5 rows x 111 columns]"
      ]
     },
     "execution_count": 2,
     "metadata": {},
     "output_type": "execute_result"
    }
   ],
   "source": [
    "fb = pb.scrapers.FootballData(\"ENG Premier League\", \"2019-2020\")\n",
    "df = fb.get_fixtures()\n",
    "\n",
    "df.head()"
   ]
  },
  {
   "cell_type": "markdown",
   "id": "9257f0fc-5f2b-402f-9209-d005d14880be",
   "metadata": {},
   "source": [
    "## Train the Model"
   ]
  },
  {
   "cell_type": "code",
   "execution_count": 6,
   "id": "7d39d92f-6fa0-4a2a-8a48-22d214e38efc",
   "metadata": {
    "tags": []
   },
   "outputs": [],
   "source": [
    "clf = pb.models.WeibullCopulaGoalsModel(\n",
    "    df[\"goals_home\"], df[\"goals_away\"], df[\"team_home\"], df[\"team_away\"]\n",
    ")\n",
    "clf.fit()"
   ]
  },
  {
   "cell_type": "markdown",
   "id": "63a12589-0066-431f-8444-92e2944b55a4",
   "metadata": {},
   "source": [
    "## The model's parameters"
   ]
  },
  {
   "cell_type": "code",
   "execution_count": 7,
   "id": "ffe48c5e-3e8c-4a99-be9f-a1b46307c981",
   "metadata": {},
   "outputs": [
    {
     "data": {
      "text/plain": [
       "Module: Penaltyblog\n",
       "\n",
       "Model: Bivariate Weibull Count + Copula\n",
       "\n",
       "Number of parameters: 43\n",
       "Log Likelihood: -1049.502\n",
       "AIC: 2185.004\n",
       "\n",
       "Team                 Attack               Defence             \n",
       "------------------------------------------------------------\n",
       "Arsenal              1.18                 -0.845              \n",
       "Aston Villa          0.827                -0.483              \n",
       "Bournemouth          0.8                  -0.521              \n",
       "Brighton             0.758                -0.723              \n",
       "Burnley              0.842                -0.803              \n",
       "Chelsea              1.361                -0.691              \n",
       "Crystal Palace       0.492                -0.808              \n",
       "Everton              0.87                 -0.666              \n",
       "Leicester            1.334                -1.012              \n",
       "Liverpool            1.576                -1.196              \n",
       "Man City             1.726                -1.149              \n",
       "Man United           1.309                -1.173              \n",
       "Newcastle            0.732                -0.625              \n",
       "Norwich              0.355                -0.373              \n",
       "Sheffield United     0.733                -1.084              \n",
       "Southampton          1.041                -0.6                \n",
       "Tottenham            1.262                -0.853              \n",
       "Watford              0.717                -0.683              \n",
       "West Ham             1.034                -0.583              \n",
       "Wolves               1.051                -1.047              \n",
       "------------------------------------------------------------\n",
       "Home Advantage: 0.237\n",
       "Weibull Shape: 1.191\n",
       "Kappa: -1.124"
      ]
     },
     "execution_count": 7,
     "metadata": {},
     "output_type": "execute_result"
    }
   ],
   "source": [
    "clf"
   ]
  },
  {
   "cell_type": "code",
   "execution_count": 8,
   "id": "fc93ec32-d113-4155-a516-abfe58dc8469",
   "metadata": {
    "tags": []
   },
   "outputs": [
    {
     "data": {
      "text/plain": [
       "{'attack_Arsenal': np.float64(1.179769798230943),\n",
       " 'attack_Aston Villa': np.float64(0.8266884198325761),\n",
       " 'attack_Bournemouth': np.float64(0.8000029795341291),\n",
       " 'attack_Brighton': np.float64(0.758314290253675),\n",
       " 'attack_Burnley': np.float64(0.8417401509964312),\n",
       " 'attack_Chelsea': np.float64(1.3607223147937588),\n",
       " 'attack_Crystal Palace': np.float64(0.49243818621675517),\n",
       " 'attack_Everton': np.float64(0.8698585283954932),\n",
       " 'attack_Leicester': np.float64(1.3342799764663846),\n",
       " 'attack_Liverpool': np.float64(1.5757685825494745),\n",
       " 'attack_Man City': np.float64(1.7264894247959923),\n",
       " 'attack_Man United': np.float64(1.3089879914388485),\n",
       " 'attack_Newcastle': np.float64(0.7319077539737945),\n",
       " 'attack_Norwich': np.float64(0.35480019509348815),\n",
       " 'attack_Sheffield United': np.float64(0.7330540551655979),\n",
       " 'attack_Southampton': np.float64(1.0411083850683125),\n",
       " 'attack_Tottenham': np.float64(1.2621636005439274),\n",
       " 'attack_Watford': np.float64(0.7168453758596648),\n",
       " 'attack_West Ham': np.float64(1.0343278657294679),\n",
       " 'attack_Wolves': np.float64(1.0507321250612873),\n",
       " 'defense_Arsenal': np.float64(-0.8453536420332521),\n",
       " 'defense_Aston Villa': np.float64(-0.48268388979817994),\n",
       " 'defense_Bournemouth': np.float64(-0.5214493991876412),\n",
       " 'defense_Brighton': np.float64(-0.7226417339122669),\n",
       " 'defense_Burnley': np.float64(-0.8027091324569042),\n",
       " 'defense_Chelsea': np.float64(-0.6910077953612148),\n",
       " 'defense_Crystal Palace': np.float64(-0.8078641937913402),\n",
       " 'defense_Everton': np.float64(-0.6662646385329984),\n",
       " 'defense_Leicester': np.float64(-1.0115435779130117),\n",
       " 'defense_Liverpool': np.float64(-1.1964837038491032),\n",
       " 'defense_Man City': np.float64(-1.1491457526577027),\n",
       " 'defense_Man United': np.float64(-1.1730997440922768),\n",
       " 'defense_Newcastle': np.float64(-0.6253160191024968),\n",
       " 'defense_Norwich': np.float64(-0.3725473931455274),\n",
       " 'defense_Sheffield United': np.float64(-1.0844702002733413),\n",
       " 'defense_Southampton': np.float64(-0.5997094298680736),\n",
       " 'defense_Tottenham': np.float64(-0.8526285008777335),\n",
       " 'defense_Watford': np.float64(-0.6825412626451641),\n",
       " 'defense_West Ham': np.float64(-0.5831636485882182),\n",
       " 'defense_Wolves': np.float64(-1.0466435800924925),\n",
       " 'home_advantage': np.float64(0.23660542908765508),\n",
       " 'shape': np.float64(1.1914180830665422),\n",
       " 'kappa': np.float64(-1.124146670813505)}"
      ]
     },
     "execution_count": 8,
     "metadata": {},
     "output_type": "execute_result"
    }
   ],
   "source": [
    "clf.get_params()"
   ]
  },
  {
   "cell_type": "markdown",
   "id": "43bb1f12-7010-421b-bf93-bb8e1dba2df6",
   "metadata": {},
   "source": [
    "## Predict Match Outcomes"
   ]
  },
  {
   "cell_type": "code",
   "execution_count": 9,
   "id": "3a047b77-707d-46b6-bcf8-57f3356efee3",
   "metadata": {
    "tags": []
   },
   "outputs": [
    {
     "data": {
      "text/plain": [
       "Module: Penaltyblog\n",
       "\n",
       "Class: FootballProbabilityGrid\n",
       "\n",
       "Home Goal Expectation: 2.1505646413520654\n",
       "Away Goal Expectation: 0.8643724049559192\n",
       "\n",
       "Home Win: 0.6321877349473087\n",
       "Draw: 0.20826672774574265\n",
       "Away Win: 0.15954553721861117"
      ]
     },
     "execution_count": 9,
     "metadata": {},
     "output_type": "execute_result"
    }
   ],
   "source": [
    "probs = clf.predict(\"Liverpool\", \"Wolves\")\n",
    "probs"
   ]
  },
  {
   "cell_type": "markdown",
   "id": "2a5274e7-d13e-455b-8e77-a6f51ba6f830",
   "metadata": {},
   "source": [
    "### 1x2 Probabilities"
   ]
  },
  {
   "cell_type": "code",
   "execution_count": 10,
   "id": "cc1d6199-c35e-4ea3-bf82-a89c31a7277d",
   "metadata": {
    "tags": []
   },
   "outputs": [
    {
     "data": {
      "text/plain": [
       "[np.float64(0.6321877349473087),\n",
       " np.float64(0.20826672774574265),\n",
       " np.float64(0.15954553721861117)]"
      ]
     },
     "execution_count": 10,
     "metadata": {},
     "output_type": "execute_result"
    }
   ],
   "source": [
    "probs.home_draw_away"
   ]
  },
  {
   "cell_type": "code",
   "execution_count": 11,
   "id": "eef96983-d83d-4c39-bd49-47cb4a704ab4",
   "metadata": {
    "tags": []
   },
   "outputs": [
    {
     "data": {
      "text/plain": [
       "np.float64(0.6321877349473087)"
      ]
     },
     "execution_count": 11,
     "metadata": {},
     "output_type": "execute_result"
    }
   ],
   "source": [
    "probs.home_win"
   ]
  },
  {
   "cell_type": "code",
   "execution_count": 12,
   "id": "e08561b2-07ed-47b3-89d7-14c0a05cf854",
   "metadata": {
    "tags": []
   },
   "outputs": [
    {
     "data": {
      "text/plain": [
       "np.float64(0.20826672774574265)"
      ]
     },
     "execution_count": 12,
     "metadata": {},
     "output_type": "execute_result"
    }
   ],
   "source": [
    "probs.draw"
   ]
  },
  {
   "cell_type": "code",
   "execution_count": 13,
   "id": "594e21a7-9a75-49a3-b3e8-50fa4bd8ac51",
   "metadata": {
    "tags": []
   },
   "outputs": [
    {
     "data": {
      "text/plain": [
       "np.float64(0.15954553721861117)"
      ]
     },
     "execution_count": 13,
     "metadata": {},
     "output_type": "execute_result"
    }
   ],
   "source": [
    "probs.away_win"
   ]
  },
  {
   "cell_type": "markdown",
   "id": "9996be1b-acf8-4305-9bf0-6e4832505d47",
   "metadata": {},
   "source": [
    "### Probablity of Total Goals >1.5"
   ]
  },
  {
   "cell_type": "code",
   "execution_count": 14,
   "id": "8da5ea91-ff28-4c6d-b6bf-0d5ef417da2b",
   "metadata": {
    "tags": []
   },
   "outputs": [
    {
     "data": {
      "text/plain": [
       "np.float64(0.8056798030497333)"
      ]
     },
     "execution_count": 14,
     "metadata": {},
     "output_type": "execute_result"
    }
   ],
   "source": [
    "probs.total_goals(\"over\", 1.5)"
   ]
  },
  {
   "cell_type": "markdown",
   "id": "5a0876d3-9d69-4b63-ae8a-d2b3b8f40aa6",
   "metadata": {},
   "source": [
    "### Probability of Asian Handicap 1.5"
   ]
  },
  {
   "cell_type": "code",
   "execution_count": 15,
   "id": "280e7570-5010-4b39-8104-71ca27e4005a",
   "metadata": {
    "tags": []
   },
   "outputs": [
    {
     "data": {
      "text/plain": [
       "np.float64(0.38396594274872287)"
      ]
     },
     "execution_count": 15,
     "metadata": {},
     "output_type": "execute_result"
    }
   ],
   "source": [
    "probs.asian_handicap(\"home\", 1.5)"
   ]
  },
  {
   "cell_type": "markdown",
   "id": "f1205e38-8afc-45fc-ba5f-59292aad9e21",
   "metadata": {},
   "source": [
    "## Probability of both teams scoring"
   ]
  },
  {
   "cell_type": "code",
   "execution_count": 16,
   "id": "1b63af09-9383-4c5a-ae1c-dadb1a57193a",
   "metadata": {
    "tags": []
   },
   "outputs": [
    {
     "data": {
      "text/plain": [
       "np.float64(0.4978134327387067)"
      ]
     },
     "execution_count": 16,
     "metadata": {},
     "output_type": "execute_result"
    }
   ],
   "source": [
    "probs.both_teams_to_score"
   ]
  },
  {
   "cell_type": "markdown",
   "id": "8d8ace53-efc0-4227-bbdc-8c54e8b1e05c",
   "metadata": {},
   "source": [
    "## Train the model with more recent data weighted to be more important"
   ]
  },
  {
   "cell_type": "code",
   "execution_count": 17,
   "id": "c5fd1d29-cdac-4b70-b4a7-04f64cb87eea",
   "metadata": {
    "tags": []
   },
   "outputs": [],
   "source": [
    "weights = pb.models.dixon_coles_weights(df[\"date\"], 0.001)\n",
    "\n",
    "clf = pb.models.WeibullCopulaGoalsModel(\n",
    "    df[\"goals_home\"], df[\"goals_away\"], df[\"team_home\"], df[\"team_away\"], weights\n",
    ")\n",
    "clf.fit()"
   ]
  },
  {
   "cell_type": "code",
   "execution_count": 18,
   "id": "954c880f-e861-406c-9ef5-b3b05bfa7f6e",
   "metadata": {
    "tags": []
   },
   "outputs": [
    {
     "data": {
      "text/plain": [
       "Module: Penaltyblog\n",
       "\n",
       "Model: Bivariate Weibull Count + Copula\n",
       "\n",
       "Number of parameters: 43\n",
       "Log Likelihood: -873.221\n",
       "AIC: 1832.443\n",
       "\n",
       "Team                 Attack               Defence             \n",
       "------------------------------------------------------------\n",
       "Arsenal              1.192                -0.872              \n",
       "Aston Villa          0.802                -0.511              \n",
       "Bournemouth          0.813                -0.525              \n",
       "Brighton             0.747                -0.725              \n",
       "Burnley              0.837                -0.828              \n",
       "Chelsea              1.368                -0.694              \n",
       "Crystal Palace       0.485                -0.794              \n",
       "Everton              0.864                -0.683              \n",
       "Leicester            1.308                -0.988              \n",
       "Liverpool            1.572                -1.172              \n",
       "Man City             1.73                 -1.197              \n",
       "Man United           1.338                -1.202              \n",
       "Newcastle            0.76                 -0.616              \n",
       "Norwich              0.286                -0.376              \n",
       "Sheffield United     0.732                -1.071              \n",
       "Southampton          1.065                -0.633              \n",
       "Tottenham            1.263                -0.878              \n",
       "Watford              0.744                -0.69               \n",
       "West Ham             1.054                -0.602              \n",
       "Wolves               1.04                 -1.077              \n",
       "------------------------------------------------------------\n",
       "Home Advantage: 0.244\n",
       "Weibull Shape: 1.189\n",
       "Kappa: -1.15"
      ]
     },
     "execution_count": 18,
     "metadata": {},
     "output_type": "execute_result"
    }
   ],
   "source": [
    "clf"
   ]
  }
 ],
 "metadata": {
  "kernelspec": {
   "display_name": "venv",
   "language": "python",
   "name": "python3"
  },
  "language_info": {
   "codemirror_mode": {
    "name": "ipython",
    "version": 3
   },
   "file_extension": ".py",
   "mimetype": "text/x-python",
   "name": "python",
   "nbconvert_exporter": "python",
   "pygments_lexer": "ipython3",
   "version": "3.13.5"
  }
 },
 "nbformat": 4,
 "nbformat_minor": 5
}
